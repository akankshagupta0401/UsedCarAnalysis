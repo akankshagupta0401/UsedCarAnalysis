{
 "cells": [
  {
   "cell_type": "code",
   "execution_count": 1,
   "id": "df799ac5-e24a-48e7-b20f-9d22c6b7ecd0",
   "metadata": {},
   "outputs": [],
   "source": [
    "#!pip install witwidget\n",
    "#!jupyter labextension install wit-widget\n",
    "#!jupyter labextension install @jupyter-widgets/jupyterlab-manager\n",
    "#!pip install pandas-profiling\n",
    "### You need to restart JupyterLab after this "
   ]
  },
  {
   "cell_type": "code",
   "execution_count": 2,
   "id": "d1b4cf4f-31fa-4db7-b073-d7682edf5f2d",
   "metadata": {},
   "outputs": [],
   "source": [
    "import pandas as pd\n",
    "import numpy as np\n",
    "from pandas_profiling import ProfileReport\n",
    "\n",
    "# Enable inline plotting\n",
    "%matplotlib inline"
   ]
  },
  {
   "cell_type": "code",
   "execution_count": 3,
   "id": "5037a69d-04cd-4edc-b0e0-32245f5d9647",
   "metadata": {},
   "outputs": [
    {
     "data": {
      "application/vnd.jupyter.widget-view+json": {
       "model_id": "646ecd010efc4c359d272826560d5a60",
       "version_major": 2,
       "version_minor": 0
      },
      "text/plain": [
       "Summarize dataset:   0%|          | 0/5 [00:00<?, ?it/s]"
      ]
     },
     "metadata": {},
     "output_type": "display_data"
    },
    {
     "data": {
      "application/vnd.jupyter.widget-view+json": {
       "model_id": "49bc83b31fe44e4b8b3f796092e3944d",
       "version_major": 2,
       "version_minor": 0
      },
      "text/plain": [
       "Generate report structure:   0%|          | 0/1 [00:00<?, ?it/s]"
      ]
     },
     "metadata": {},
     "output_type": "display_data"
    },
    {
     "data": {
      "application/vnd.jupyter.widget-view+json": {
       "model_id": "4d328f6cfc4c42b6b503f77552165fa9",
       "version_major": 2,
       "version_minor": 0
      },
      "text/plain": [
       "Render HTML:   0%|          | 0/1 [00:00<?, ?it/s]"
      ]
     },
     "metadata": {},
     "output_type": "display_data"
    },
    {
     "data": {
      "application/vnd.jupyter.widget-view+json": {
       "model_id": "8a3237ac34cb466bb47309bacef4da77",
       "version_major": 2,
       "version_minor": 0
      },
      "text/plain": [
       "Export report to file:   0%|          | 0/1 [00:00<?, ?it/s]"
      ]
     },
     "metadata": {},
     "output_type": "display_data"
    }
   ],
   "source": [
    "# read traning data\n",
    "df_usedCar = pd.read_csv('usedcars_dataset.csv')\n",
    "\n",
    "# create a pandas-profiling report\n",
    "profile_usedCar = ProfileReport(df_usedCar, title='Used Car Report')\n",
    "profile_usedCar.to_file(\"usedcar_report.html\")"
   ]
  }
 ],
 "metadata": {
  "kernelspec": {
   "display_name": "Python 3",
   "language": "python",
   "name": "python3"
  },
  "language_info": {
   "codemirror_mode": {
    "name": "ipython",
    "version": 3
   },
   "file_extension": ".py",
   "mimetype": "text/x-python",
   "name": "python",
   "nbconvert_exporter": "python",
   "pygments_lexer": "ipython3",
   "version": "3.8.8"
  }
 },
 "nbformat": 4,
 "nbformat_minor": 5
}
